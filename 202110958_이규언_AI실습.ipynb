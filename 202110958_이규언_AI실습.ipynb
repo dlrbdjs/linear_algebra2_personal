{
  "nbformat": 4,
  "nbformat_minor": 0,
  "metadata": {
    "colab": {
      "provenance": [],
      "mount_file_id": "1DRKzNTi99DvxOA9ndycZiZAeeIwn_Mj0",
      "authorship_tag": "ABX9TyN7OWNWIcke9uBYGgacY8+3",
      "include_colab_link": true
    },
    "kernelspec": {
      "name": "python3",
      "display_name": "Python 3"
    },
    "language_info": {
      "name": "python"
    }
  },
  "cells": [
    {
      "cell_type": "markdown",
      "metadata": {
        "id": "view-in-github",
        "colab_type": "text"
      },
      "source": [
        "<a href=\"https://colab.research.google.com/github/dlrbdjs/linear_algebra2_personal/blob/main/202110958_%EC%9D%B4%EA%B7%9C%EC%96%B8_AI%EC%8B%A4%EC%8A%B5.ipynb\" target=\"_parent\"><img src=\"https://colab.research.google.com/assets/colab-badge.svg\" alt=\"Open In Colab\"/></a>"
      ]
    },
    {
      "cell_type": "code",
      "execution_count": 1,
      "metadata": {
        "id": "6ZL8eBkBp2JQ"
      },
      "outputs": [],
      "source": [
        "import torch\n",
        "import torch.optim as optim"
      ]
    },
    {
      "cell_type": "code",
      "source": [
        "x_train = torch.FloatTensor([[5], [5], [10], [15], [17], [20]])\n",
        "y_train = torch.FloatTensor(([50], [61], [73], [91], [94], [99]))"
      ],
      "metadata": {
        "id": "sJj1rdMCsnE_"
      },
      "execution_count": 2,
      "outputs": []
    },
    {
      "cell_type": "code",
      "source": [
        "#가중치 (Weight, W)를 0으로 설정\n",
        "W=torch.zeros(1, requires_grad=True)"
      ],
      "metadata": {
        "id": "KMyRitQaqMvM"
      },
      "execution_count": 3,
      "outputs": []
    },
    {
      "cell_type": "code",
      "source": [
        "#편향(Bias, b)또한 0으로 설정\n",
        "b=torch.zeros(1, requires_grad=True)"
      ],
      "metadata": {
        "id": "x40s2ZIWqUvI"
      },
      "execution_count": 4,
      "outputs": []
    },
    {
      "cell_type": "code",
      "source": [
        "# #선형 회귀의 가설 H(x) = Wx + b\n",
        "hypothesis = x_train * W + b"
      ],
      "metadata": {
        "id": "GM1Zph-dqfwj"
      },
      "execution_count": 5,
      "outputs": []
    },
    {
      "cell_type": "code",
      "source": [
        "#평균 제곱 오차\n",
        "cost = torch.mean((hypothesis - y_train)**2)"
      ],
      "metadata": {
        "id": "Vn7_XnfDqsX-"
      },
      "execution_count": 6,
      "outputs": []
    },
    {
      "cell_type": "code",
      "source": [
        "#SGD는 Gradient Descent의 일종\n",
        "optimizer = optim.SGD([W, b], lr = 0.001)"
      ],
      "metadata": {
        "id": "10YP9ll2q1Kw"
      },
      "execution_count": 7,
      "outputs": []
    },
    {
      "cell_type": "code",
      "source": [
        "#학습 진행\n",
        "# Epoch : 20000으로 설정\n",
        "epoch = 20000\n",
        "for i in range(epoch):\n",
        "    #가설 함수 갱신\n",
        "    hypothesis = x_train * W + b\n",
        "    #비용 함수 값 갱신\n",
        "    cost = torch.mean((hypothesis - y_train)**2)\n",
        "\n",
        "    optimizer.zero_grad()\n",
        "    #Cost function을 미분하여 W와 b에 대한 gradient(기울기) 자동 계산\n",
        "    cost.backward()\n",
        "\n",
        "    #W, b 값 갱신(W, b에다가 (기울기 값 * lr) 해서 뺴주는 Gradient descent 공식을 따름)\n",
        "    optimizer.step()\n",
        "\n",
        "    # 2000 epoch 마다 현재 W, b, cost값 출력\n",
        "    if(i+1) % 2000 == 0:\n",
        "        print(\"Epoch {:4d}/{} W: {:.3f}, b: {:.3f} Cost: {:.6f}\".format(\n",
        "            i+1, epoch, W.item(), b.item(), cost.item()))"
      ],
      "metadata": {
        "colab": {
          "base_uri": "https://localhost:8080/"
        },
        "id": "f4lMVHsQq_ND",
        "outputId": "946e1e70-0f55-4668-b6b2-c8d1f8284334"
      },
      "execution_count": 8,
      "outputs": [
        {
          "output_type": "stream",
          "name": "stdout",
          "text": [
            "Epoch 2000/20000 W: 4.370, b: 21.940 Cost: 85.573975\n",
            "Epoch 4000/20000 W: 3.680, b: 32.132 Cost: 30.957300\n",
            "Epoch 6000/20000 W: 3.353, b: 36.952 Cost: 18.736231\n",
            "Epoch 8000/20000 W: 3.199, b: 39.233 Cost: 16.001619\n",
            "Epoch 10000/20000 W: 3.126, b: 40.312 Cost: 15.389733\n",
            "Epoch 12000/20000 W: 3.091, b: 40.822 Cost: 15.252814\n",
            "Epoch 14000/20000 W: 3.075, b: 41.063 Cost: 15.222169\n",
            "Epoch 16000/20000 W: 3.067, b: 41.177 Cost: 15.215306\n",
            "Epoch 18000/20000 W: 3.063, b: 41.231 Cost: 15.213772\n",
            "Epoch 20000/20000 W: 3.062, b: 41.257 Cost: 15.213428\n"
          ]
        }
      ]
    },
    {
      "cell_type": "markdown",
      "source": [
        "단순 로지스틱 회귀"
      ],
      "metadata": {
        "id": "2DXS-NTv-KG5"
      }
    },
    {
      "cell_type": "code",
      "source": [
        "import torch.nn.functional as F\n",
        "import torch\n",
        "import torch.optim as optim"
      ],
      "metadata": {
        "id": "iRH5G5y8-Leh"
      },
      "execution_count": 9,
      "outputs": []
    },
    {
      "cell_type": "code",
      "source": [
        "x_train = torch.FloatTensor([[5], [13], [15], [17], [20], [21]])\n",
        "y_train = torch.FloatTensor(([0], [0], [0], [1], [1], [1]))"
      ],
      "metadata": {
        "id": "ceb2sGk6_mXs"
      },
      "execution_count": 10,
      "outputs": []
    },
    {
      "cell_type": "code",
      "source": [
        "#가중치 (Weight, W)를 0으로 설정\n",
        "W=torch.zeros(1, requires_grad=True)"
      ],
      "metadata": {
        "id": "YyPzx2x1_qEN"
      },
      "execution_count": 11,
      "outputs": []
    },
    {
      "cell_type": "code",
      "source": [
        "#편향(Bias, b)또한 0으로 설정\n",
        "b=torch.zeros(1, requires_grad=True)"
      ],
      "metadata": {
        "id": "IdmnUUtC_qjA"
      },
      "execution_count": 12,
      "outputs": []
    },
    {
      "cell_type": "code",
      "source": [
        "# #로지스틱 회귀의 가설 H(x) = sigmoid(Wx + b)\n",
        "hypothesis = torch.sigmoid(x_train * W + b)"
      ],
      "metadata": {
        "id": "NMvFbT2g-S0s"
      },
      "execution_count": 13,
      "outputs": []
    },
    {
      "cell_type": "code",
      "source": [
        "# #크로스 엔트로피 함수\n",
        "cost = F.binary_cross_entropy(hypothesis, y_train)"
      ],
      "metadata": {
        "id": "F_A6L1ry-a17"
      },
      "execution_count": 14,
      "outputs": []
    },
    {
      "cell_type": "code",
      "source": [
        "#옵티마이저 설정\n",
        "optimizer = optim.SGD([W, b], lr = 0.001)"
      ],
      "metadata": {
        "id": "tlaHzA7j_27G"
      },
      "execution_count": 15,
      "outputs": []
    },
    {
      "cell_type": "code",
      "source": [
        "#학습 진행\n",
        "# Epoch : 20000으로 설정\n",
        "epoch = 20000\n",
        "for i in range(epoch):\n",
        "    #가설 함수 갱신\n",
        "    hypothesis = torch.sigmoid(x_train * W + b)\n",
        "    #비용 함수 값 갱신\n",
        "    cost = F.binary_cross_entropy(hypothesis, y_train)\n",
        "\n",
        "    optimizer.zero_grad()\n",
        "    #Cost function을 미분하여 W와 b에 대한 gradient(기울기) 자동 계산\n",
        "    cost.backward()\n",
        "\n",
        "    #W, b 값 갱신(W, b에다가 (기울기 값 * lr) 해서 뺴주는 Gradient descent 공식을 따름)\n",
        "    optimizer.step()\n",
        "\n",
        "    # 2000 epoch 마다 현재 W, b, cost값 출력\n",
        "    if(i+1) % 2000 == 0:\n",
        "        print(\"Epoch {:4d}/{} W: {:.3f}, b: {:.3f} Cost: {:.6f}\".format(\n",
        "            i+1, epoch, W.item(), b.item(), cost.item()))"
      ],
      "metadata": {
        "colab": {
          "base_uri": "https://localhost:8080/"
        },
        "id": "bUZAqQG9_7WP",
        "outputId": "4be4a428-b119-4a0e-e3fa-cd9acabbc691"
      },
      "execution_count": 16,
      "outputs": [
        {
          "output_type": "stream",
          "name": "stdout",
          "text": [
            "Epoch 2000/20000 W: 0.047, b: -0.236 Cost: 0.630780\n",
            "Epoch 4000/20000 W: 0.061, b: -0.462 Cost: 0.605159\n",
            "Epoch 6000/20000 W: 0.073, b: -0.677 Cost: 0.582104\n",
            "Epoch 8000/20000 W: 0.085, b: -0.880 Cost: 0.561326\n",
            "Epoch 10000/20000 W: 0.097, b: -1.073 Cost: 0.542557\n",
            "Epoch 12000/20000 W: 0.108, b: -1.257 Cost: 0.525554\n",
            "Epoch 14000/20000 W: 0.118, b: -1.433 Cost: 0.510101\n",
            "Epoch 16000/20000 W: 0.128, b: -1.601 Cost: 0.496010\n",
            "Epoch 18000/20000 W: 0.138, b: -1.761 Cost: 0.483114\n",
            "Epoch 20000/20000 W: 0.147, b: -1.914 Cost: 0.471270\n"
          ]
        }
      ]
    },
    {
      "cell_type": "code",
      "source": [
        "test_input = torch.FloatTensor([[15.5]])\n",
        "result = torch.sigmoid(test_input * W + b)\n",
        "print(result)"
      ],
      "metadata": {
        "colab": {
          "base_uri": "https://localhost:8080/"
        },
        "id": "PvWENYK_ATKZ",
        "outputId": "1e8a4d32-f1fb-4ee4-f41c-da1fca47f1b8"
      },
      "execution_count": 17,
      "outputs": [
        {
          "output_type": "stream",
          "name": "stdout",
          "text": [
            "tensor([[0.5906]], grad_fn=<SigmoidBackward0>)\n"
          ]
        }
      ]
    },
    {
      "cell_type": "code",
      "source": [
        "#기준점을 설정하여 결과 값을 True/False 결과로 분류\n",
        "#기준점을 0.5로 설정하여 분류\n",
        "threshold = 0.5\n",
        "predict = result >= torch.FloatTensor([threshold])\n",
        "print(predict)"
      ],
      "metadata": {
        "colab": {
          "base_uri": "https://localhost:8080/"
        },
        "id": "NW5Xq6q_Aonf",
        "outputId": "178f5bac-6844-4a1f-cd20-ea0bb477204f"
      },
      "execution_count": 18,
      "outputs": [
        {
          "output_type": "stream",
          "name": "stdout",
          "text": [
            "tensor([[True]])\n"
          ]
        }
      ]
    },
    {
      "cell_type": "markdown",
      "source": [
        "MNIST 데이터로 숫자 분류"
      ],
      "metadata": {
        "id": "ldBo3V3oBVZC"
      }
    },
    {
      "cell_type": "code",
      "source": [
        "#소프트맥스 회귀 구현\n",
        "import torch\n",
        "import torch.nn as nn\n",
        "import torchvision.datasets as dsets\n",
        "import torchvision.transforms as transforms\n",
        "from torch.utils.data import DataLoader\n",
        "import matplotlib.pyplot as plt\n",
        "import random"
      ],
      "metadata": {
        "id": "oMVPwoanBTMW"
      },
      "execution_count": 19,
      "outputs": []
    },
    {
      "cell_type": "code",
      "source": [
        "#학습 환경 설정\n",
        "device = torch.device(\"cpu\")\n",
        "#for reproductibility\n",
        "random.seed(777)\n",
        "torch.manual_seed(777)\n",
        "#하이퍼 파라미터 설정\n",
        "training_epochs = 15\n",
        "batch_size = 100"
      ],
      "metadata": {
        "id": "imRfgLoqBsVj"
      },
      "execution_count": 20,
      "outputs": []
    },
    {
      "cell_type": "code",
      "source": [
        "#MNIST 데이터 셋 다운로드\n",
        "# 60000개의 train data, 10000개 test data\n",
        "mnist_train = dsets.MNIST(root='MNIST_data/',\n",
        "                          train = True,\n",
        "                          transform=transforms.ToTensor(),\n",
        "                          download = True)\n",
        "mnist_test = dsets.MNIST(root='MNIST_data/',\n",
        "                          train = False,\n",
        "                          transform=transforms.ToTensor(),\n",
        "                          download = True)\n",
        "data_loader = DataLoader(dataset=mnist_train,\n",
        "                         batch_size=batch_size,shuffle = True,\n",
        "                         drop_last=True)"
      ],
      "metadata": {
        "colab": {
          "base_uri": "https://localhost:8080/"
        },
        "id": "JLJPyKa-B-tA",
        "outputId": "41522c3e-f7f5-407b-cedf-94377e7df384"
      },
      "execution_count": 21,
      "outputs": [
        {
          "output_type": "stream",
          "name": "stdout",
          "text": [
            "Downloading http://yann.lecun.com/exdb/mnist/train-images-idx3-ubyte.gz\n",
            "Failed to download (trying next):\n",
            "HTTP Error 403: Forbidden\n",
            "\n",
            "Downloading https://ossci-datasets.s3.amazonaws.com/mnist/train-images-idx3-ubyte.gz\n",
            "Downloading https://ossci-datasets.s3.amazonaws.com/mnist/train-images-idx3-ubyte.gz to MNIST_data/MNIST/raw/train-images-idx3-ubyte.gz\n"
          ]
        },
        {
          "output_type": "stream",
          "name": "stderr",
          "text": [
            "100%|██████████| 9912422/9912422 [00:01<00:00, 5989824.21it/s]\n"
          ]
        },
        {
          "output_type": "stream",
          "name": "stdout",
          "text": [
            "Extracting MNIST_data/MNIST/raw/train-images-idx3-ubyte.gz to MNIST_data/MNIST/raw\n",
            "\n",
            "Downloading http://yann.lecun.com/exdb/mnist/train-labels-idx1-ubyte.gz\n",
            "Failed to download (trying next):\n",
            "HTTP Error 403: Forbidden\n",
            "\n",
            "Downloading https://ossci-datasets.s3.amazonaws.com/mnist/train-labels-idx1-ubyte.gz\n",
            "Downloading https://ossci-datasets.s3.amazonaws.com/mnist/train-labels-idx1-ubyte.gz to MNIST_data/MNIST/raw/train-labels-idx1-ubyte.gz\n"
          ]
        },
        {
          "output_type": "stream",
          "name": "stderr",
          "text": [
            "100%|██████████| 28881/28881 [00:00<00:00, 160863.51it/s]\n"
          ]
        },
        {
          "output_type": "stream",
          "name": "stdout",
          "text": [
            "Extracting MNIST_data/MNIST/raw/train-labels-idx1-ubyte.gz to MNIST_data/MNIST/raw\n",
            "\n",
            "Downloading http://yann.lecun.com/exdb/mnist/t10k-images-idx3-ubyte.gz\n",
            "Failed to download (trying next):\n",
            "HTTP Error 403: Forbidden\n",
            "\n",
            "Downloading https://ossci-datasets.s3.amazonaws.com/mnist/t10k-images-idx3-ubyte.gz\n",
            "Downloading https://ossci-datasets.s3.amazonaws.com/mnist/t10k-images-idx3-ubyte.gz to MNIST_data/MNIST/raw/t10k-images-idx3-ubyte.gz\n"
          ]
        },
        {
          "output_type": "stream",
          "name": "stderr",
          "text": [
            "100%|██████████| 1648877/1648877 [00:01<00:00, 1514110.37it/s]\n"
          ]
        },
        {
          "output_type": "stream",
          "name": "stdout",
          "text": [
            "Extracting MNIST_data/MNIST/raw/t10k-images-idx3-ubyte.gz to MNIST_data/MNIST/raw\n",
            "\n",
            "Downloading http://yann.lecun.com/exdb/mnist/t10k-labels-idx1-ubyte.gz\n",
            "Failed to download (trying next):\n",
            "HTTP Error 403: Forbidden\n",
            "\n",
            "Downloading https://ossci-datasets.s3.amazonaws.com/mnist/t10k-labels-idx1-ubyte.gz\n",
            "Downloading https://ossci-datasets.s3.amazonaws.com/mnist/t10k-labels-idx1-ubyte.gz to MNIST_data/MNIST/raw/t10k-labels-idx1-ubyte.gz\n"
          ]
        },
        {
          "output_type": "stream",
          "name": "stderr",
          "text": [
            "100%|██████████| 4542/4542 [00:00<00:00, 2069584.87it/s]"
          ]
        },
        {
          "output_type": "stream",
          "name": "stdout",
          "text": [
            "Extracting MNIST_data/MNIST/raw/t10k-labels-idx1-ubyte.gz to MNIST_data/MNIST/raw\n",
            "\n"
          ]
        },
        {
          "output_type": "stream",
          "name": "stderr",
          "text": [
            "\n"
          ]
        }
      ]
    },
    {
      "cell_type": "code",
      "source": [
        "#모델 설정\n",
        "#MNIST data image of shape 28 * 28 = 784\n",
        "linear = nn.Linear(784, 10, bias = True).to(device)"
      ],
      "metadata": {
        "id": "mIPHY9l5Cg4y"
      },
      "execution_count": 22,
      "outputs": []
    },
    {
      "cell_type": "code",
      "source": [
        "#비용함수와 옵티마이저 정의\n",
        "criterion = nn.CrossEntropyLoss().to(device)\n",
        "optimizer = torch.optim.SGD(linear.parameters(), lr=0.1)"
      ],
      "metadata": {
        "id": "SfkROTz4CwjY"
      },
      "execution_count": 23,
      "outputs": []
    },
    {
      "cell_type": "code",
      "source": [
        "#학습 진행\n",
        "# 60000개의 train data, 10000개의 test data\n",
        "#back-propagation\n",
        "mnist_train = dsets.MNIST(root='MNIST_data/',\n",
        "                          train = True,\n",
        "                          transform=transforms.ToTensor(),\n",
        "                          download = True)\n",
        "mnist_test = dsets.MNIST(root='MNIST_data/',\n",
        "                          train = False,\n",
        "                          transform=transforms.ToTensor(),\n",
        "                          download = True)\n",
        "data_loader = DataLoader(dataset=mnist_train,\n",
        "                         batch_size=batch_size,shuffle = True,\n",
        "                         drop_last=True)"
      ],
      "metadata": {
        "id": "1C97YmsDDAGm"
      },
      "execution_count": 24,
      "outputs": []
    },
    {
      "cell_type": "code",
      "source": [
        "#테스트 데이터를 사용하여 모델을 테스트한다.\n",
        "#torch.no_grad()를 하면 gradient 계산을 수행하지 않는다.\n",
        "with torch.no_grad():\n",
        "    X_test = mnist_test.test_data.view(-1, 28* 28).float().to(device)\n",
        "    Y_test = mnist_test.test_labels.to(device)\n",
        "\n",
        "    prediction = linear(X_test)\n",
        "    correct_prediction = torch.argmax(prediction, 1) == Y_test\n",
        "    accuracy = correct_prediction.float().mean()\n",
        "    print(\"Accuracy : \", accuracy.item())\n",
        "\n",
        "    #MNIST 테스트 데이터에서 무작위로 하나를 뽑아서 예측을 해본다\n",
        "    r = random.randint(0, len(mnist_test) - 1)\n",
        "    X_single_data = mnist_test.test_data[r:r + 1].view(-1, 28 * 28).float().to(device)\n",
        "    Y_single_data = mnist_test.test_labels[r:r+1].to(device)\n",
        "\n",
        "    print(\"Label: \", Y_single_data.item())\n",
        "    single_prediction = linear(X_single_data)\n",
        "    print(\"Prediction : \", torch.argmax(single_prediction, 1).item())\n",
        "\n",
        "    plt.imshow(mnist_test.test_data[r:r+1].view(28, 28), cmap=\"Greys\",\n",
        "               interpolation = 'nearest')\n",
        "\n",
        "    plt.show()"
      ],
      "metadata": {
        "colab": {
          "base_uri": "https://localhost:8080/",
          "height": 552
        },
        "id": "axKejmJWDT7k",
        "outputId": "476ae949-b3b8-4113-c0db-10f69998c040"
      },
      "execution_count": 25,
      "outputs": [
        {
          "output_type": "stream",
          "name": "stderr",
          "text": [
            "/usr/local/lib/python3.10/dist-packages/torchvision/datasets/mnist.py:80: UserWarning: test_data has been renamed data\n",
            "  warnings.warn(\"test_data has been renamed data\")\n",
            "/usr/local/lib/python3.10/dist-packages/torchvision/datasets/mnist.py:70: UserWarning: test_labels has been renamed targets\n",
            "  warnings.warn(\"test_labels has been renamed targets\")\n"
          ]
        },
        {
          "output_type": "stream",
          "name": "stdout",
          "text": [
            "Accuracy :  0.10050000250339508\n",
            "Label:  8\n",
            "Prediction :  9\n"
          ]
        },
        {
          "output_type": "display_data",
          "data": {
            "text/plain": [
              "<Figure size 640x480 with 1 Axes>"
            ],
            "image/png": "[encoded data removed]"
          },
          "metadata": {}
        }
      ]
    }
  ]
}